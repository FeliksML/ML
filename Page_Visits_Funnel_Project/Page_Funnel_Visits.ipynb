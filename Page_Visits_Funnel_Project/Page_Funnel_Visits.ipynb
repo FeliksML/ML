{
 "cells": [
  {
   "cell_type": "code",
   "execution_count": 24,
   "metadata": {},
   "outputs": [],
   "source": [
    "import pandas as pd"
   ]
  },
  {
   "cell_type": "markdown",
   "metadata": {},
   "source": [
    "Import all the files"
   ]
  },
  {
   "cell_type": "code",
   "execution_count": 50,
   "metadata": {},
   "outputs": [
    {
     "data": {
      "text/plain": "                                  user_id       purchase_time\n0    4b44ace4-2721-47a0-b24b-15fbfa2abf85 2017-05-11 04:25:00\n1    02e684ae-a448-408f-a9ff-dcb4a5c99aac 2017-09-05 08:45:00\n2    4b4bc391-749e-4b90-ab8f-4f6e3c84d6dc 2017-11-20 20:49:00\n3    a5dbb25f-3c36-4103-9030-9f7c6241cd8d 2017-01-22 15:18:00\n4    46a3186d-7f5a-4ab9-87af-84d05bfd4867 2017-06-11 11:32:00\n..                                    ...                 ...\n247  278c0f3c-d092-4e7f-b97b-97cc9d57c1c2 2017-01-05 02:45:00\n248  952be3a5-9240-484f-845c-a6b2cbed72ee 2017-05-02 06:10:00\n249  27e5a297-332d-4e8b-8e2a-b97ae8c5b6f9 2017-09-04 17:39:00\n250  4b04c692-d814-45bd-854a-000e0ef4e92a 2017-06-20 17:28:00\n251  c62fdf2f-3b30-4624-8463-d3961e687997 2017-11-21 23:00:00\n\n[252 rows x 2 columns]",
      "text/html": "<div>\n<style scoped>\n    .dataframe tbody tr th:only-of-type {\n        vertical-align: middle;\n    }\n\n    .dataframe tbody tr th {\n        vertical-align: top;\n    }\n\n    .dataframe thead th {\n        text-align: right;\n    }\n</style>\n<table border=\"1\" class=\"dataframe\">\n  <thead>\n    <tr style=\"text-align: right;\">\n      <th></th>\n      <th>user_id</th>\n      <th>purchase_time</th>\n    </tr>\n  </thead>\n  <tbody>\n    <tr>\n      <th>0</th>\n      <td>4b44ace4-2721-47a0-b24b-15fbfa2abf85</td>\n      <td>2017-05-11 04:25:00</td>\n    </tr>\n    <tr>\n      <th>1</th>\n      <td>02e684ae-a448-408f-a9ff-dcb4a5c99aac</td>\n      <td>2017-09-05 08:45:00</td>\n    </tr>\n    <tr>\n      <th>2</th>\n      <td>4b4bc391-749e-4b90-ab8f-4f6e3c84d6dc</td>\n      <td>2017-11-20 20:49:00</td>\n    </tr>\n    <tr>\n      <th>3</th>\n      <td>a5dbb25f-3c36-4103-9030-9f7c6241cd8d</td>\n      <td>2017-01-22 15:18:00</td>\n    </tr>\n    <tr>\n      <th>4</th>\n      <td>46a3186d-7f5a-4ab9-87af-84d05bfd4867</td>\n      <td>2017-06-11 11:32:00</td>\n    </tr>\n    <tr>\n      <th>...</th>\n      <td>...</td>\n      <td>...</td>\n    </tr>\n    <tr>\n      <th>247</th>\n      <td>278c0f3c-d092-4e7f-b97b-97cc9d57c1c2</td>\n      <td>2017-01-05 02:45:00</td>\n    </tr>\n    <tr>\n      <th>248</th>\n      <td>952be3a5-9240-484f-845c-a6b2cbed72ee</td>\n      <td>2017-05-02 06:10:00</td>\n    </tr>\n    <tr>\n      <th>249</th>\n      <td>27e5a297-332d-4e8b-8e2a-b97ae8c5b6f9</td>\n      <td>2017-09-04 17:39:00</td>\n    </tr>\n    <tr>\n      <th>250</th>\n      <td>4b04c692-d814-45bd-854a-000e0ef4e92a</td>\n      <td>2017-06-20 17:28:00</td>\n    </tr>\n    <tr>\n      <th>251</th>\n      <td>c62fdf2f-3b30-4624-8463-d3961e687997</td>\n      <td>2017-11-21 23:00:00</td>\n    </tr>\n  </tbody>\n</table>\n<p>252 rows × 2 columns</p>\n</div>"
     },
     "execution_count": 50,
     "metadata": {},
     "output_type": "execute_result"
    }
   ],
   "source": [
    "visits = pd.read_csv('visits.csv',\n",
    "                     parse_dates=[1])\n",
    "cart = pd.read_csv('cart.csv',\n",
    "                   parse_dates=[1])\n",
    "                   \n",
    "checkout = pd.read_csv('checkout.csv',\n",
    "                       parse_dates=[1])\n",
    "purchase = pd.read_csv('purchase.csv',\n",
    "                       parse_dates=[1])\n",
    "purchase"
   ]
  },
  {
   "cell_type": "markdown",
   "metadata": {},
   "source": [
    "Step 1: Inspect the DataFrames using `print` and `head`"
   ]
  },
  {
   "cell_type": "code",
   "execution_count": 26,
   "metadata": {},
   "outputs": [
    {
     "name": "stdout",
     "output_type": "stream",
     "text": [
      "                                user_id          visit_time\n",
      "0  943647ef-3682-4750-a2e1-918ba6f16188 2017-04-07 15:14:00\n",
      "1  0c3a3dd0-fb64-4eac-bf84-ba069ce409f2 2017-01-26 14:24:00\n",
      "2  6e0b2d60-4027-4d9a-babd-0e7d40859fb1 2017-08-20 08:23:00\n",
      "3  6879527e-c5a6-4d14-b2da-50b85212b0ab 2017-11-04 18:15:00\n",
      "4  a84327ff-5daa-4ba1-b789-d5b4caf81e96 2017-02-27 11:25:00\n",
      "                                user_id           cart_time\n",
      "0  2be90e7c-9cca-44e0-bcc5-124b945ff168 2017-11-07 20:45:00\n",
      "1  4397f73f-1da3-4ab3-91af-762792e25973 2017-05-27 01:35:00\n",
      "2  a9db3d4b-0a0a-4398-a55a-ebb2c7adf663 2017-03-04 10:38:00\n",
      "3  b594862a-36c5-47d5-b818-6e9512b939b3 2017-09-27 08:22:00\n",
      "4  a68a16e2-94f0-4ce8-8ce3-784af0bbb974 2017-07-26 15:48:00\n",
      "                                user_id       checkout_time\n",
      "0  d33bdc47-4afa-45bc-b4e4-dbe948e34c0d 2017-06-25 09:29:00\n",
      "1  4ac186f0-9954-4fea-8a27-c081e428e34e 2017-04-07 20:11:00\n",
      "2  3c9c78a7-124a-4b77-8d2e-e1926e011e7d 2017-07-13 11:38:00\n",
      "3  89fe330a-8966-4756-8f7c-3bdbcd47279a 2017-04-20 16:15:00\n",
      "4  3ccdaf69-2d30-40de-b083-51372881aedd 2017-01-08 20:52:00\n",
      "                                user_id       purchase_time\n",
      "0  4b44ace4-2721-47a0-b24b-15fbfa2abf85 2017-05-11 04:25:00\n",
      "1  02e684ae-a448-408f-a9ff-dcb4a5c99aac 2017-09-05 08:45:00\n",
      "2  4b4bc391-749e-4b90-ab8f-4f6e3c84d6dc 2017-11-20 20:49:00\n",
      "3  a5dbb25f-3c36-4103-9030-9f7c6241cd8d 2017-01-22 15:18:00\n",
      "4  46a3186d-7f5a-4ab9-87af-84d05bfd4867 2017-06-11 11:32:00\n"
     ]
    }
   ],
   "source": [
    "print(visits.head(5))\n",
    "print(cart.head(5))\n",
    "print(checkout.head(5))\n",
    "print(purchase.head(5))"
   ]
  },
  {
   "cell_type": "markdown",
   "metadata": {},
   "source": [
    "Step 2: Left merging visits and cart"
   ]
  },
  {
   "cell_type": "code",
   "execution_count": 27,
   "metadata": {},
   "outputs": [
    {
     "data": {
      "text/plain": "                                   user_id          visit_time  \\\n0     943647ef-3682-4750-a2e1-918ba6f16188 2017-04-07 15:14:00   \n1     0c3a3dd0-fb64-4eac-bf84-ba069ce409f2 2017-01-26 14:24:00   \n2     6e0b2d60-4027-4d9a-babd-0e7d40859fb1 2017-08-20 08:23:00   \n3     6879527e-c5a6-4d14-b2da-50b85212b0ab 2017-11-04 18:15:00   \n4     a84327ff-5daa-4ba1-b789-d5b4caf81e96 2017-02-27 11:25:00   \n...                                    ...                 ...   \n1995  33913ac2-03da-45ae-8fc3-fea39df827c6 2017-03-25 03:29:00   \n1996  4f850132-b99d-4623-80e6-6e61d003577e 2017-01-08 09:57:00   \n1997  f0830b9b-1f5c-4e74-b63d-3f847cc6ce70 2017-09-07 12:56:00   \n1998  b01bffa7-63ba-4cd3-9d93-eb1477c23831 2017-07-20 04:37:00   \n1999  0336ca81-8d68-443f-9248-ac0b8ad147d5 2017-11-15 10:11:00   \n\n               cart_time  \n0                    NaT  \n1    2017-01-26 14:44:00  \n2    2017-08-20 08:31:00  \n3                    NaT  \n4                    NaT  \n...                  ...  \n1995                 NaT  \n1996                 NaT  \n1997                 NaT  \n1998                 NaT  \n1999                 NaT  \n\n[2000 rows x 3 columns]",
      "text/html": "<div>\n<style scoped>\n    .dataframe tbody tr th:only-of-type {\n        vertical-align: middle;\n    }\n\n    .dataframe tbody tr th {\n        vertical-align: top;\n    }\n\n    .dataframe thead th {\n        text-align: right;\n    }\n</style>\n<table border=\"1\" class=\"dataframe\">\n  <thead>\n    <tr style=\"text-align: right;\">\n      <th></th>\n      <th>user_id</th>\n      <th>visit_time</th>\n      <th>cart_time</th>\n    </tr>\n  </thead>\n  <tbody>\n    <tr>\n      <th>0</th>\n      <td>943647ef-3682-4750-a2e1-918ba6f16188</td>\n      <td>2017-04-07 15:14:00</td>\n      <td>NaT</td>\n    </tr>\n    <tr>\n      <th>1</th>\n      <td>0c3a3dd0-fb64-4eac-bf84-ba069ce409f2</td>\n      <td>2017-01-26 14:24:00</td>\n      <td>2017-01-26 14:44:00</td>\n    </tr>\n    <tr>\n      <th>2</th>\n      <td>6e0b2d60-4027-4d9a-babd-0e7d40859fb1</td>\n      <td>2017-08-20 08:23:00</td>\n      <td>2017-08-20 08:31:00</td>\n    </tr>\n    <tr>\n      <th>3</th>\n      <td>6879527e-c5a6-4d14-b2da-50b85212b0ab</td>\n      <td>2017-11-04 18:15:00</td>\n      <td>NaT</td>\n    </tr>\n    <tr>\n      <th>4</th>\n      <td>a84327ff-5daa-4ba1-b789-d5b4caf81e96</td>\n      <td>2017-02-27 11:25:00</td>\n      <td>NaT</td>\n    </tr>\n    <tr>\n      <th>...</th>\n      <td>...</td>\n      <td>...</td>\n      <td>...</td>\n    </tr>\n    <tr>\n      <th>1995</th>\n      <td>33913ac2-03da-45ae-8fc3-fea39df827c6</td>\n      <td>2017-03-25 03:29:00</td>\n      <td>NaT</td>\n    </tr>\n    <tr>\n      <th>1996</th>\n      <td>4f850132-b99d-4623-80e6-6e61d003577e</td>\n      <td>2017-01-08 09:57:00</td>\n      <td>NaT</td>\n    </tr>\n    <tr>\n      <th>1997</th>\n      <td>f0830b9b-1f5c-4e74-b63d-3f847cc6ce70</td>\n      <td>2017-09-07 12:56:00</td>\n      <td>NaT</td>\n    </tr>\n    <tr>\n      <th>1998</th>\n      <td>b01bffa7-63ba-4cd3-9d93-eb1477c23831</td>\n      <td>2017-07-20 04:37:00</td>\n      <td>NaT</td>\n    </tr>\n    <tr>\n      <th>1999</th>\n      <td>0336ca81-8d68-443f-9248-ac0b8ad147d5</td>\n      <td>2017-11-15 10:11:00</td>\n      <td>NaT</td>\n    </tr>\n  </tbody>\n</table>\n<p>2000 rows × 3 columns</p>\n</div>"
     },
     "execution_count": 27,
     "metadata": {},
     "output_type": "execute_result"
    }
   ],
   "source": [
    "visits_cart = pd.merge(visits, cart, how='left')\n",
    "visits_cart"
   ]
  },
  {
   "cell_type": "markdown",
   "metadata": {},
   "source": [
    "Step 3: How long is `visits_cart`?"
   ]
  },
  {
   "cell_type": "code",
   "execution_count": 28,
   "metadata": {},
   "outputs": [
    {
     "data": {
      "text/plain": "2000"
     },
     "execution_count": 28,
     "metadata": {},
     "output_type": "execute_result"
    }
   ],
   "source": [
    "total_visits = len(visits_cart)\n",
    "total_visits"
   ]
  },
  {
   "cell_type": "markdown",
   "metadata": {},
   "source": [
    "Step 4: How many timestamps are null for `cart_time`?"
   ]
  },
  {
   "cell_type": "code",
   "execution_count": 29,
   "metadata": {},
   "outputs": [
    {
     "data": {
      "text/plain": "1652"
     },
     "execution_count": 29,
     "metadata": {},
     "output_type": "execute_result"
    }
   ],
   "source": [
    "empty_cart_time = sum(1  if pd.isnull(row['cart_time']) else 0 for index, row in visits_cart.iterrows())\n",
    "empty_cart_time"
   ]
  },
  {
   "cell_type": "markdown",
   "metadata": {},
   "source": [
    "Step 5: What percentage only visited?"
   ]
  },
  {
   "cell_type": "code",
   "execution_count": 30,
   "metadata": {},
   "outputs": [
    {
     "name": "stdout",
     "output_type": "stream",
     "text": [
      "Only visited 82.6%.\n"
     ]
    }
   ],
   "source": [
    "percent_visited = (empty_cart_time / total_visits) * 100\n",
    "print(f\"Only visited {percent_visited}%.\")"
   ]
  },
  {
   "cell_type": "markdown",
   "metadata": {},
   "source": [
    "Step 6: What percentage placed a t-shirt in their cart but did not checkout?\n",
    "\n",
    "visits lists all of the users who have visited the website\n",
    "cart lists all of the users who have added a t-shirt to their cart\n",
    "checkout lists all of the users who have started the checkout\n",
    "purchase lists all of the users who have purchased a t-shirt"
   ]
  },
  {
   "cell_type": "code",
   "execution_count": 37,
   "metadata": {},
   "outputs": [
    {
     "data": {
      "text/plain": "35.05747126436782"
     },
     "execution_count": 37,
     "metadata": {},
     "output_type": "execute_result"
    }
   ],
   "source": [
    "in_cart_but_no_checkout = pd.merge(cart, checkout, how='left')\n",
    "did_not_checkout = (sum(1 if pd.isnull(row['checkout_time']) else 0 for i, row in in_cart_but_no_checkout.iterrows())  / len(in_cart_but_no_checkout)) * 100"
   ]
  },
  {
   "cell_type": "markdown",
   "metadata": {},
   "source": [
    "Step 7: Merge it all together"
   ]
  },
  {
   "cell_type": "code",
   "execution_count": 57,
   "metadata": {},
   "outputs": [
    {
     "name": "stdout",
     "output_type": "stream",
     "text": [
      "                                user_id          visit_time  \\\n",
      "0  943647ef-3682-4750-a2e1-918ba6f16188 2017-04-07 15:14:00   \n",
      "1  0c3a3dd0-fb64-4eac-bf84-ba069ce409f2 2017-01-26 14:24:00   \n",
      "2  6e0b2d60-4027-4d9a-babd-0e7d40859fb1 2017-08-20 08:23:00   \n",
      "3  6879527e-c5a6-4d14-b2da-50b85212b0ab 2017-11-04 18:15:00   \n",
      "4  a84327ff-5daa-4ba1-b789-d5b4caf81e96 2017-02-27 11:25:00   \n",
      "\n",
      "            cart_time       checkout_time  \n",
      "0                 NaT                 NaT  \n",
      "1 2017-01-26 14:44:00 2017-01-26 14:54:00  \n",
      "2 2017-08-20 08:31:00                 NaT  \n",
      "3                 NaT                 NaT  \n",
      "4                 NaT                 NaT  \n"
     ]
    }
   ],
   "source": [
    "all_data = visits_cart.merge(in_cart_but_no_checkout, how='left')\n",
    "print(all_data.head())"
   ]
  },
  {
   "cell_type": "markdown",
   "metadata": {},
   "source": [
    "Step 8: % of users who got to checkout but did not purchase"
   ]
  },
  {
   "cell_type": "code",
   "execution_count": 56,
   "metadata": {},
   "outputs": [
    {
     "data": {
      "text/plain": "24.550898203592812"
     },
     "execution_count": 56,
     "metadata": {},
     "output_type": "execute_result"
    }
   ],
   "source": [
    "checkout_not_purchased = checkout.merge(purchase, how='left')\n",
    "checkout_not_purchased_percent = (sum(1 if pd.isnull(row['purchase_time']) else 0 for i, row in checkout_not_purchased.iterrows())  / len(checkout_not_purchased)) * 100\n",
    "checkout_not_purchased_percent"
   ]
  },
  {
   "cell_type": "markdown",
   "metadata": {},
   "source": [
    "Step 9: check each part of the funnel, let's print all 3 of them again"
   ]
  },
  {
   "cell_type": "code",
   "execution_count": 48,
   "metadata": {},
   "outputs": [
    {
     "name": "stdout",
     "output_type": "stream",
     "text": [
      "Percent olny visited: 82.6%\n",
      "Percent who did not checkout: 35.06%\n",
      "Percent who did not purchased: 24.55%\n"
     ]
    }
   ],
   "source": [
    "print(f\"Percent olny visited: {percent_visited}%\\nPercent who did not checkout: {did_not_checkout:.2f}%\\nPercent who did not purchased: {checkout_not_purchased_percent:.2f}%\")"
   ]
  },
  {
   "cell_type": "markdown",
   "metadata": {},
   "source": [
    "*The weakest part of the funnel is clearly getting a person who visited the site to add a tshirt to their cart. Once they've added a t-shirt to their cart it is fairly likely they end up purchasing it. A suggestion could be to make the add-to-cart button more prominent on the front page.*\n",
    "\n",
    "\n",
    "Step 10: adding new column"
   ]
  },
  {
   "cell_type": "code",
   "execution_count": 60,
   "metadata": {},
   "outputs": [
    {
     "name": "stdout",
     "output_type": "stream",
     "text": [
      "                                   user_id          visit_time  \\\n",
      "0     943647ef-3682-4750-a2e1-918ba6f16188 2017-04-07 15:14:00   \n",
      "1     0c3a3dd0-fb64-4eac-bf84-ba069ce409f2 2017-01-26 14:24:00   \n",
      "2     6e0b2d60-4027-4d9a-babd-0e7d40859fb1 2017-08-20 08:23:00   \n",
      "3     6879527e-c5a6-4d14-b2da-50b85212b0ab 2017-11-04 18:15:00   \n",
      "4     a84327ff-5daa-4ba1-b789-d5b4caf81e96 2017-02-27 11:25:00   \n",
      "...                                    ...                 ...   \n",
      "2111  33913ac2-03da-45ae-8fc3-fea39df827c6 2017-03-25 03:29:00   \n",
      "2112  4f850132-b99d-4623-80e6-6e61d003577e 2017-01-08 09:57:00   \n",
      "2113  f0830b9b-1f5c-4e74-b63d-3f847cc6ce70 2017-09-07 12:56:00   \n",
      "2114  b01bffa7-63ba-4cd3-9d93-eb1477c23831 2017-07-20 04:37:00   \n",
      "2115  0336ca81-8d68-443f-9248-ac0b8ad147d5 2017-11-15 10:11:00   \n",
      "\n",
      "               cart_time       checkout_time       purchase_time  \\\n",
      "0                    NaT                 NaT                 NaT   \n",
      "1    2017-01-26 14:44:00 2017-01-26 14:54:00 2017-01-26 15:08:00   \n",
      "2    2017-08-20 08:31:00                 NaT                 NaT   \n",
      "3                    NaT                 NaT                 NaT   \n",
      "4                    NaT                 NaT                 NaT   \n",
      "...                  ...                 ...                 ...   \n",
      "2111                 NaT                 NaT                 NaT   \n",
      "2112                 NaT                 NaT                 NaT   \n",
      "2113                 NaT                 NaT                 NaT   \n",
      "2114                 NaT                 NaT                 NaT   \n",
      "2115                 NaT                 NaT                 NaT   \n",
      "\n",
      "          total_time  \n",
      "0                NaT  \n",
      "1    0 days 00:44:00  \n",
      "2                NaT  \n",
      "3                NaT  \n",
      "4                NaT  \n",
      "...              ...  \n",
      "2111             NaT  \n",
      "2112             NaT  \n",
      "2113             NaT  \n",
      "2114             NaT  \n",
      "2115             NaT  \n",
      "\n",
      "[2116 rows x 6 columns]\n"
     ]
    }
   ],
   "source": [
    "all_data = pd.merge(all_data,purchase , how='left')\n",
    "\n",
    "all_data['total_time'] = all_data['purchase_time'] - all_data['visit_time']\n",
    "print(all_data)"
   ]
  },
  {
   "cell_type": "markdown",
   "metadata": {},
   "source": [
    "Step 11: examine the results"
   ]
  },
  {
   "cell_type": "code",
   "execution_count": null,
   "metadata": {},
   "outputs": [],
   "source": []
  },
  {
   "cell_type": "markdown",
   "metadata": {},
   "source": [
    "Step 12: average time to purchase"
   ]
  },
  {
   "cell_type": "code",
   "execution_count": 61,
   "metadata": {},
   "outputs": [
    {
     "data": {
      "text/plain": "Timedelta('0 days 00:43:21.230769230')"
     },
     "execution_count": 61,
     "metadata": {},
     "output_type": "execute_result"
    }
   ],
   "source": [
    "average_time_to_purchase = all_data['total_time'].mean()\n",
    "average_time_to_purchase"
   ]
  },
  {
   "cell_type": "code",
   "execution_count": null,
   "metadata": {},
   "outputs": [],
   "source": []
  }
 ],
 "metadata": {
  "kernelspec": {
   "display_name": "Python 3",
   "language": "python",
   "name": "python3"
  },
  "language_info": {
   "codemirror_mode": {
    "name": "ipython",
    "version": 3
   },
   "file_extension": ".py",
   "mimetype": "text/x-python",
   "name": "python",
   "nbconvert_exporter": "python",
   "pygments_lexer": "ipython3",
   "version": "3.8.5"
  }
 },
 "nbformat": 4,
 "nbformat_minor": 4
}
